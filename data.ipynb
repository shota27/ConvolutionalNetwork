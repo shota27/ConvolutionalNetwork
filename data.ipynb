{
 "cells": [
  {
   "cell_type": "markdown",
   "metadata": {},
   "source": [
    "### データ拡張\n",
    "Augmentor、OpenCVでのノイズ付加、線の太さ拡大縮小などと比較検証し、ImageDataGeneratorの精度が高かったため、ImageDataGeneratorを用いてデータ拡張を実施しました。"
   ]
  },
  {
   "cell_type": "code",
   "execution_count": null,
   "metadata": {},
   "outputs": [],
   "source": [
    "import numpy as np\n",
    "from tensorflow.keras.preprocessing.image import ImageDataGenerator"
   ]
  },
  {
   "cell_type": "code",
   "execution_count": null,
   "metadata": {},
   "outputs": [],
   "source": [
    "datagen=ImageDataGenerator(\n",
    "width_shift_range=0.1,\n",
    "height_shift_range=0.1,\n",
    "rotation_range=5,\n",
    "zoom_range= [0.88,1.0] ,\n",
    "shear_range=0.2,\n",
    "fill_mode='constant',\n",
    "cval=255\n",
    "    )\n",
    "train_generator=datagen.flow_from_directory(\n",
    "    \"../imagedatagenerator_katakana_folder\",\n",
    "    target_size=(28,28),\n",
    "    batch_size=3000,\n",
    "    color_mode='grayscale',\n",
    "    classes=[],#全てのクラスがアルファベット順に読み込み\n",
    "\n",
    ")\n",
    "image1,label1=train_generator.next()\n",
    "image2,label2=train_generator.next()\n",
    "image3,label3=train_generator.next()\n",
    "image4,label4=train_generator.next()\n",
    "image5,label5=train_generator.next()\n",
    "image6,label6=train_generator.next()\n",
    "image7,label7=train_generator.next()\n",
    "image=np.concatenate([image1,image2,image3,image4,image5,image6,image7],axis=0)\n",
    "label=np.concatenate([label1,label2,label3,label4,label5,label6,label7],axis=0)\n",
    "print(type(image),image.shape)\n",
    "\n",
    "data_list=[]\n",
    "for i in image:\n",
    "    image_black_white=i.transpose(2,0,1)\n",
    "    data_list.append(image_black_white)\n",
    "\n",
    "print(image_black_white.shape)\n",
    "print(len(data_list),data_list[0].shape)\n",
    "print(len(label),label.shape)"
   ]
  },
  {
   "cell_type": "code",
   "execution_count": null,
   "metadata": {},
   "outputs": [],
   "source": [
    "np.save('../../1_data/train_data_image_data_generator',data_list)\n",
    "np.save('../../1_data/train_label_image_data_generator',label)"
   ]
  }
 ],
 "metadata": {
  "language_info": {
   "name": "python"
  }
 },
 "nbformat": 4,
 "nbformat_minor": 2
}
